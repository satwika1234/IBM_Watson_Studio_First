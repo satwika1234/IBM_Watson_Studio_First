{
    "cells": [
        {
            "cell_type": "markdown",
            "metadata": {},
            "source": "# Description\nThis notebook analyzes and visualize Mcdonolads data"
        },
        {
            "cell_type": "code",
            "execution_count": 1,
            "metadata": {},
            "outputs": [
                {
                    "data": {
                        "text/html": "<div>\n<style scoped>\n    .dataframe tbody tr th:only-of-type {\n        vertical-align: middle;\n    }\n\n    .dataframe tbody tr th {\n        vertical-align: top;\n    }\n\n    .dataframe thead th {\n        text-align: right;\n    }\n</style>\n<table border=\"1\" class=\"dataframe\">\n  <thead>\n    <tr style=\"text-align: right;\">\n      <th></th>\n      <th>Date</th>\n      <th>Adj. Close</th>\n      <th>Adj. Volume</th>\n    </tr>\n  </thead>\n  <tbody>\n    <tr>\n      <th>0</th>\n      <td>1970-01-02</td>\n      <td>0.209761</td>\n      <td>2825604.0</td>\n    </tr>\n    <tr>\n      <th>1</th>\n      <td>1970-01-05</td>\n      <td>0.213316</td>\n      <td>2210449.5</td>\n    </tr>\n    <tr>\n      <th>2</th>\n      <td>1970-01-06</td>\n      <td>0.214501</td>\n      <td>1951168.5</td>\n    </tr>\n    <tr>\n      <th>3</th>\n      <td>1970-01-07</td>\n      <td>0.213316</td>\n      <td>2728768.5</td>\n    </tr>\n    <tr>\n      <th>4</th>\n      <td>1970-01-08</td>\n      <td>0.213316</td>\n      <td>2242404.0</td>\n    </tr>\n  </tbody>\n</table>\n</div>",
                        "text/plain": "         Date  Adj. Close  Adj. Volume\n0  1970-01-02    0.209761    2825604.0\n1  1970-01-05    0.213316    2210449.5\n2  1970-01-06    0.214501    1951168.5\n3  1970-01-07    0.213316    2728768.5\n4  1970-01-08    0.213316    2242404.0"
                    },
                    "execution_count": 1,
                    "metadata": {},
                    "output_type": "execute_result"
                }
            ],
            "source": "# The code was removed by Watson Studio for sharing."
        },
        {
            "cell_type": "code",
            "execution_count": null,
            "metadata": {},
            "outputs": [],
            "source": ""
        }
    ],
    "metadata": {
        "kernelspec": {
            "display_name": "Python 3.8",
            "language": "python",
            "name": "python3"
        },
        "language_info": {
            "codemirror_mode": {
                "name": "ipython",
                "version": 3
            },
            "file_extension": ".py",
            "mimetype": "text/x-python",
            "name": "python",
            "nbconvert_exporter": "python",
            "pygments_lexer": "ipython3",
            "version": "3.8.11"
        }
    },
    "nbformat": 4,
    "nbformat_minor": 1
}